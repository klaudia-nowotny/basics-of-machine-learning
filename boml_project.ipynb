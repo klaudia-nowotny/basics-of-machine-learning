{
  "cells": [
    {
      "cell_type": "markdown",
      "source": [
        "# **Predict employee future in company**"
      ],
      "metadata": {
        "id": "u_76iQplOclo"
      }
    },
    {
      "cell_type": "markdown",
      "source": [
        "**About The Dataset**\n",
        "1. Education: employee’s education level [Bachelors, Masters, PHD]\n",
        "2. Joining year: year of joining company [year]\n",
        "3. City: City office where posted [City name]\n",
        "4. Payment Tier: Payment Tier [1: highest, 2: mid level, 3: lowest]\n",
        "5. Age: current employee age [years]\n",
        "6. Gender: gender of employee [Male, Female]\n",
        "7. Ever Benched: ever kept out of project for 1 month or more [True, False]\n",
        "8. Experience in Current Field [0-7]\n",
        "9. Leave or not: whether employee leaves the company in next two years [0,1]"
      ],
      "metadata": {
        "id": "hj4RaP8mOix7"
      }
    },
    {
      "cell_type": "markdown",
      "source": [
        "# **Imports**"
      ],
      "metadata": {
        "id": "ESjopJzrOTYd"
      }
    },
    {
      "cell_type": "code",
      "execution_count": null,
      "metadata": {
        "id": "PBp7L2A37y8W"
      },
      "outputs": [],
      "source": [
        "import pandas as pd\n",
        "import numpy as np \n",
        "import matplotlib.pyplot as plt\n",
        "from sklearn.preprocessing import StandardScaler\n",
        "from sklearn.model_selection import train_test_split\n",
        "from sklearn.metrics import confusion_matrix\n",
        "import seaborn as sns\n",
        "from sklearn import metrics\n",
        "from sklearn.model_selection import GridSearchCV\n",
        "from sklearn.model_selection import RandomizedSearchCV\n",
        "#KNeighborsClassifier\n",
        "from sklearn.neighbors import KNeighborsClassifier\n",
        "#RandomForest\n",
        "from sklearn.ensemble import RandomForestClassifier\n",
        "#LogisticRegression\n",
        "from sklearn.linear_model import LogisticRegression\n",
        "#XGBoost\n",
        "from xgboost import XGBClassifier\n",
        "#NeuralNetwork\n",
        "from sklearn.neural_network import MLPClassifier"
      ]
    },
    {
      "cell_type": "code",
      "execution_count": null,
      "metadata": {
        "id": "MhyOcUPr_ckd",
        "colab": {
          "base_uri": "https://localhost:8080/",
          "height": 204
        },
        "outputId": "ef102766-b903-4d55-829e-458d1a35003d"
      },
      "outputs": [
        {
          "output_type": "execute_result",
          "data": {
            "text/html": [
              "\n",
              "  <div id=\"df-fc2b422f-5077-4dd3-b63d-1fd4436ed659\">\n",
              "    <div class=\"colab-df-container\">\n",
              "      <div>\n",
              "<style scoped>\n",
              "    .dataframe tbody tr th:only-of-type {\n",
              "        vertical-align: middle;\n",
              "    }\n",
              "\n",
              "    .dataframe tbody tr th {\n",
              "        vertical-align: top;\n",
              "    }\n",
              "\n",
              "    .dataframe thead th {\n",
              "        text-align: right;\n",
              "    }\n",
              "</style>\n",
              "<table border=\"1\" class=\"dataframe\">\n",
              "  <thead>\n",
              "    <tr style=\"text-align: right;\">\n",
              "      <th></th>\n",
              "      <th>Education</th>\n",
              "      <th>JoiningYear</th>\n",
              "      <th>City</th>\n",
              "      <th>PaymentTier</th>\n",
              "      <th>Age</th>\n",
              "      <th>Gender</th>\n",
              "      <th>EverBenched</th>\n",
              "      <th>ExperienceInCurrentDomain</th>\n",
              "      <th>LeaveOrNot</th>\n",
              "    </tr>\n",
              "  </thead>\n",
              "  <tbody>\n",
              "    <tr>\n",
              "      <th>0</th>\n",
              "      <td>Bachelors</td>\n",
              "      <td>2017</td>\n",
              "      <td>Bangalore</td>\n",
              "      <td>3</td>\n",
              "      <td>34</td>\n",
              "      <td>Male</td>\n",
              "      <td>No</td>\n",
              "      <td>0</td>\n",
              "      <td>0</td>\n",
              "    </tr>\n",
              "    <tr>\n",
              "      <th>1</th>\n",
              "      <td>Bachelors</td>\n",
              "      <td>2013</td>\n",
              "      <td>Pune</td>\n",
              "      <td>1</td>\n",
              "      <td>28</td>\n",
              "      <td>Female</td>\n",
              "      <td>No</td>\n",
              "      <td>3</td>\n",
              "      <td>1</td>\n",
              "    </tr>\n",
              "    <tr>\n",
              "      <th>2</th>\n",
              "      <td>Bachelors</td>\n",
              "      <td>2014</td>\n",
              "      <td>New Delhi</td>\n",
              "      <td>3</td>\n",
              "      <td>38</td>\n",
              "      <td>Female</td>\n",
              "      <td>No</td>\n",
              "      <td>2</td>\n",
              "      <td>0</td>\n",
              "    </tr>\n",
              "    <tr>\n",
              "      <th>3</th>\n",
              "      <td>Masters</td>\n",
              "      <td>2016</td>\n",
              "      <td>Bangalore</td>\n",
              "      <td>3</td>\n",
              "      <td>27</td>\n",
              "      <td>Male</td>\n",
              "      <td>No</td>\n",
              "      <td>5</td>\n",
              "      <td>1</td>\n",
              "    </tr>\n",
              "    <tr>\n",
              "      <th>4</th>\n",
              "      <td>Masters</td>\n",
              "      <td>2017</td>\n",
              "      <td>Pune</td>\n",
              "      <td>3</td>\n",
              "      <td>24</td>\n",
              "      <td>Male</td>\n",
              "      <td>Yes</td>\n",
              "      <td>2</td>\n",
              "      <td>1</td>\n",
              "    </tr>\n",
              "  </tbody>\n",
              "</table>\n",
              "</div>\n",
              "      <button class=\"colab-df-convert\" onclick=\"convertToInteractive('df-fc2b422f-5077-4dd3-b63d-1fd4436ed659')\"\n",
              "              title=\"Convert this dataframe to an interactive table.\"\n",
              "              style=\"display:none;\">\n",
              "        \n",
              "  <svg xmlns=\"http://www.w3.org/2000/svg\" height=\"24px\"viewBox=\"0 0 24 24\"\n",
              "       width=\"24px\">\n",
              "    <path d=\"M0 0h24v24H0V0z\" fill=\"none\"/>\n",
              "    <path d=\"M18.56 5.44l.94 2.06.94-2.06 2.06-.94-2.06-.94-.94-2.06-.94 2.06-2.06.94zm-11 1L8.5 8.5l.94-2.06 2.06-.94-2.06-.94L8.5 2.5l-.94 2.06-2.06.94zm10 10l.94 2.06.94-2.06 2.06-.94-2.06-.94-.94-2.06-.94 2.06-2.06.94z\"/><path d=\"M17.41 7.96l-1.37-1.37c-.4-.4-.92-.59-1.43-.59-.52 0-1.04.2-1.43.59L10.3 9.45l-7.72 7.72c-.78.78-.78 2.05 0 2.83L4 21.41c.39.39.9.59 1.41.59.51 0 1.02-.2 1.41-.59l7.78-7.78 2.81-2.81c.8-.78.8-2.07 0-2.86zM5.41 20L4 18.59l7.72-7.72 1.47 1.35L5.41 20z\"/>\n",
              "  </svg>\n",
              "      </button>\n",
              "      \n",
              "  <style>\n",
              "    .colab-df-container {\n",
              "      display:flex;\n",
              "      flex-wrap:wrap;\n",
              "      gap: 12px;\n",
              "    }\n",
              "\n",
              "    .colab-df-convert {\n",
              "      background-color: #E8F0FE;\n",
              "      border: none;\n",
              "      border-radius: 50%;\n",
              "      cursor: pointer;\n",
              "      display: none;\n",
              "      fill: #1967D2;\n",
              "      height: 32px;\n",
              "      padding: 0 0 0 0;\n",
              "      width: 32px;\n",
              "    }\n",
              "\n",
              "    .colab-df-convert:hover {\n",
              "      background-color: #E2EBFA;\n",
              "      box-shadow: 0px 1px 2px rgba(60, 64, 67, 0.3), 0px 1px 3px 1px rgba(60, 64, 67, 0.15);\n",
              "      fill: #174EA6;\n",
              "    }\n",
              "\n",
              "    [theme=dark] .colab-df-convert {\n",
              "      background-color: #3B4455;\n",
              "      fill: #D2E3FC;\n",
              "    }\n",
              "\n",
              "    [theme=dark] .colab-df-convert:hover {\n",
              "      background-color: #434B5C;\n",
              "      box-shadow: 0px 1px 3px 1px rgba(0, 0, 0, 0.15);\n",
              "      filter: drop-shadow(0px 1px 2px rgba(0, 0, 0, 0.3));\n",
              "      fill: #FFFFFF;\n",
              "    }\n",
              "  </style>\n",
              "\n",
              "      <script>\n",
              "        const buttonEl =\n",
              "          document.querySelector('#df-fc2b422f-5077-4dd3-b63d-1fd4436ed659 button.colab-df-convert');\n",
              "        buttonEl.style.display =\n",
              "          google.colab.kernel.accessAllowed ? 'block' : 'none';\n",
              "\n",
              "        async function convertToInteractive(key) {\n",
              "          const element = document.querySelector('#df-fc2b422f-5077-4dd3-b63d-1fd4436ed659');\n",
              "          const dataTable =\n",
              "            await google.colab.kernel.invokeFunction('convertToInteractive',\n",
              "                                                     [key], {});\n",
              "          if (!dataTable) return;\n",
              "\n",
              "          const docLinkHtml = 'Like what you see? Visit the ' +\n",
              "            '<a target=\"_blank\" href=https://colab.research.google.com/notebooks/data_table.ipynb>data table notebook</a>'\n",
              "            + ' to learn more about interactive tables.';\n",
              "          element.innerHTML = '';\n",
              "          dataTable['output_type'] = 'display_data';\n",
              "          await google.colab.output.renderOutput(dataTable, element);\n",
              "          const docLink = document.createElement('div');\n",
              "          docLink.innerHTML = docLinkHtml;\n",
              "          element.appendChild(docLink);\n",
              "        }\n",
              "      </script>\n",
              "    </div>\n",
              "  </div>\n",
              "  "
            ],
            "text/plain": [
              "   Education  JoiningYear  ... ExperienceInCurrentDomain  LeaveOrNot\n",
              "0  Bachelors         2017  ...                         0           0\n",
              "1  Bachelors         2013  ...                         3           1\n",
              "2  Bachelors         2014  ...                         2           0\n",
              "3    Masters         2016  ...                         5           1\n",
              "4    Masters         2017  ...                         2           1\n",
              "\n",
              "[5 rows x 9 columns]"
            ]
          },
          "metadata": {},
          "execution_count": 2
        }
      ],
      "source": [
        "data_frame = pd.read_csv(\"Employee.csv\")\n",
        "data_frame.head()"
      ]
    },
    {
      "cell_type": "markdown",
      "source": [
        "# **Data visualization**"
      ],
      "metadata": {
        "id": "YxTG--12VWJK"
      }
    },
    {
      "cell_type": "code",
      "execution_count": null,
      "metadata": {
        "colab": {
          "base_uri": "https://localhost:8080/"
        },
        "id": "sSdxU15jAd4N",
        "outputId": "82047435-efc5-4c94-be46-788378f6618f"
      },
      "outputs": [
        {
          "output_type": "stream",
          "name": "stdout",
          "text": [
            "Education                    object\n",
            "JoiningYear                   int64\n",
            "City                         object\n",
            "PaymentTier                   int64\n",
            "Age                           int64\n",
            "Gender                       object\n",
            "EverBenched                  object\n",
            "ExperienceInCurrentDomain     int64\n",
            "LeaveOrNot                    int64\n",
            "dtype: object\n"
          ]
        }
      ],
      "source": [
        "print(data_frame.dtypes)"
      ]
    },
    {
      "cell_type": "code",
      "execution_count": null,
      "metadata": {
        "colab": {
          "base_uri": "https://localhost:8080/"
        },
        "id": "JYB7azfuHabC",
        "outputId": "dde79301-b936-4e62-d3ea-93fb23ef7964"
      },
      "outputs": [
        {
          "output_type": "execute_result",
          "data": {
            "text/plain": [
              "Education                    0\n",
              "JoiningYear                  0\n",
              "City                         0\n",
              "PaymentTier                  0\n",
              "Age                          0\n",
              "Gender                       0\n",
              "EverBenched                  0\n",
              "ExperienceInCurrentDomain    0\n",
              "LeaveOrNot                   0\n",
              "dtype: int64"
            ]
          },
          "metadata": {},
          "execution_count": 4
        }
      ],
      "source": [
        "data_frame.isnull().sum()"
      ]
    },
    {
      "cell_type": "code",
      "execution_count": null,
      "metadata": {
        "colab": {
          "base_uri": "https://localhost:8080/"
        },
        "id": "ChlwsaMv5pj_",
        "outputId": "019eb1cb-ab49-439f-fa11-fe2ebd60be20"
      },
      "outputs": [
        {
          "output_type": "execute_result",
          "data": {
            "text/plain": [
              "1889"
            ]
          },
          "metadata": {},
          "execution_count": 5
        }
      ],
      "source": [
        "data_frame.duplicated().sum()"
      ]
    },
    {
      "cell_type": "code",
      "execution_count": null,
      "metadata": {
        "colab": {
          "base_uri": "https://localhost:8080/"
        },
        "id": "P1uxz7IbyCqP",
        "outputId": "884d34b2-5338-424f-8f90-d83ab913241a"
      },
      "outputs": [
        {
          "output_type": "execute_result",
          "data": {
            "text/plain": [
              "Bachelors    3601\n",
              "Masters       873\n",
              "PHD           179\n",
              "Name: Education, dtype: int64"
            ]
          },
          "metadata": {},
          "execution_count": 6
        }
      ],
      "source": [
        "data_frame['Education'].value_counts()"
      ]
    },
    {
      "cell_type": "code",
      "execution_count": null,
      "metadata": {
        "colab": {
          "base_uri": "https://localhost:8080/",
          "height": 279
        },
        "id": "JZ93tOYSymse",
        "outputId": "a49d755b-e4db-4667-f92b-f0870ff48cd4"
      },
      "outputs": [
        {
          "output_type": "display_data",
          "data": {
            "image/png": "[encoded data removed]",
            "text/plain": [
              "<Figure size 432x288 with 1 Axes>"
            ]
          },
          "metadata": {
            "needs_background": "light"
          }
        }
      ],
      "source": [
        "sns.countplot(x = 'Education',data = data_frame)\n",
        "plt.show()"
      ]
    },
    {
      "cell_type": "markdown",
      "metadata": {
        "id": "y8l-u-UrywV_"
      },
      "source": [
        "Most of the Employees completed bachelors degree."
      ]
    },
    {
      "cell_type": "code",
      "execution_count": null,
      "metadata": {
        "colab": {
          "base_uri": "https://localhost:8080/"
        },
        "id": "JT1vsuZlzTot",
        "outputId": "72fb3039-d6de-4103-eb74-fc87ec8f2626"
      },
      "outputs": [
        {
          "output_type": "execute_result",
          "data": {
            "text/plain": [
              "2017    1108\n",
              "2015     781\n",
              "2014     699\n",
              "2013     669\n",
              "2016     525\n",
              "2012     504\n",
              "2018     367\n",
              "Name: JoiningYear, dtype: int64"
            ]
          },
          "metadata": {},
          "execution_count": 8
        }
      ],
      "source": [
        "data_frame['JoiningYear'].value_counts()"
      ]
    },
    {
      "cell_type": "code",
      "execution_count": null,
      "metadata": {
        "colab": {
          "base_uri": "https://localhost:8080/",
          "height": 279
        },
        "id": "xZzuN3iXzaXg",
        "outputId": "7da77674-a7e0-492b-a38a-73d13f1ff553"
      },
      "outputs": [
        {
          "output_type": "display_data",
          "data": {
            "image/png": "[encoded data removed]",
            "text/plain": [
              "<Figure size 432x288 with 1 Axes>"
            ]
          },
          "metadata": {
            "needs_background": "light"
          }
        }
      ],
      "source": [
        "sns.countplot(x = 'JoiningYear',data = data_frame)\n",
        "plt.show()"
      ]
    },
    {
      "cell_type": "markdown",
      "metadata": {
        "id": "9o0lXuvRzoNk"
      },
      "source": [
        "The biggest number of the Employees joined in 2017."
      ]
    },
    {
      "cell_type": "code",
      "execution_count": null,
      "metadata": {
        "colab": {
          "base_uri": "https://localhost:8080/"
        },
        "id": "bfK9ROq-zuak",
        "outputId": "1b330169-e9d8-49db-86ff-e4234f25fb59"
      },
      "outputs": [
        {
          "output_type": "execute_result",
          "data": {
            "text/plain": [
              "Bangalore    2228\n",
              "Pune         1268\n",
              "New Delhi    1157\n",
              "Name: City, dtype: int64"
            ]
          },
          "metadata": {},
          "execution_count": 10
        }
      ],
      "source": [
        "data_frame['City'].value_counts()"
      ]
    },
    {
      "cell_type": "code",
      "execution_count": null,
      "metadata": {
        "colab": {
          "base_uri": "https://localhost:8080/",
          "height": 279
        },
        "id": "iPwmUODtzy4k",
        "outputId": "bf659c10-87c3-403b-ff76-b5717b9cba05"
      },
      "outputs": [
        {
          "output_type": "display_data",
          "data": {
            "image/png": "[encoded data removed]",
            "text/plain": [
              "<Figure size 432x288 with 1 Axes>"
            ]
          },
          "metadata": {
            "needs_background": "light"
          }
        }
      ],
      "source": [
        "sns.countplot(x = 'City',data = data_frame)\n",
        "plt.show()"
      ]
    },
    {
      "cell_type": "markdown",
      "metadata": {
        "id": "lERUIKpCz_T2"
      },
      "source": [
        "The biggest number of the Employees are from Bangalore."
      ]
    },
    {
      "cell_type": "code",
      "execution_count": null,
      "metadata": {
        "colab": {
          "base_uri": "https://localhost:8080/"
        },
        "id": "pdd-fuhG0OVR",
        "outputId": "88faff84-f737-4d23-94df-39fa8a97d2c2"
      },
      "outputs": [
        {
          "output_type": "execute_result",
          "data": {
            "text/plain": [
              "3    3492\n",
              "2     918\n",
              "1     243\n",
              "Name: PaymentTier, dtype: int64"
            ]
          },
          "metadata": {},
          "execution_count": 12
        }
      ],
      "source": [
        "data_frame['PaymentTier'].value_counts()"
      ]
    },
    {
      "cell_type": "code",
      "execution_count": null,
      "metadata": {
        "colab": {
          "base_uri": "https://localhost:8080/",
          "height": 279
        },
        "id": "ULHk6xzS1Fab",
        "outputId": "63521d09-a74e-4c45-d128-273df3657c6e"
      },
      "outputs": [
        {
          "output_type": "display_data",
          "data": {
            "image/png": "[encoded data removed]",
            "text/plain": [
              "<Figure size 432x288 with 1 Axes>"
            ]
          },
          "metadata": {
            "needs_background": "light"
          }
        }
      ],
      "source": [
        "sns.countplot(x = 'PaymentTier',data = data_frame)\n",
        "plt.show()"
      ]
    },
    {
      "cell_type": "markdown",
      "metadata": {
        "id": "WrXlsx5g1S_b"
      },
      "source": [
        "Most of the Employees belong to Payment Tier 3."
      ]
    },
    {
      "cell_type": "code",
      "execution_count": null,
      "metadata": {
        "colab": {
          "base_uri": "https://localhost:8080/"
        },
        "id": "g0xurQuJ148y",
        "outputId": "b0a582ab-d6e4-4d97-fa8d-f5c099fa7bf3"
      },
      "outputs": [
        {
          "output_type": "execute_result",
          "data": {
            "text/plain": [
              "Male      2778\n",
              "Female    1875\n",
              "Name: Gender, dtype: int64"
            ]
          },
          "metadata": {},
          "execution_count": 14
        }
      ],
      "source": [
        "data_frame['Gender'].value_counts()"
      ]
    },
    {
      "cell_type": "code",
      "execution_count": null,
      "metadata": {
        "colab": {
          "base_uri": "https://localhost:8080/",
          "height": 279
        },
        "id": "9vrLMaeT2B2U",
        "outputId": "adbb9b11-a8f6-4c28-ad34-d715adb133f4"
      },
      "outputs": [
        {
          "output_type": "display_data",
          "data": {
            "image/png": "[encoded data removed]",
            "text/plain": [
              "<Figure size 432x288 with 1 Axes>"
            ]
          },
          "metadata": {
            "needs_background": "light"
          }
        }
      ],
      "source": [
        "sns.countplot(x = 'Gender',data = data_frame)\n",
        "plt.show()"
      ]
    },
    {
      "cell_type": "markdown",
      "metadata": {
        "id": "Th5pz3x42EII"
      },
      "source": [
        "There is more male Employees than female."
      ]
    },
    {
      "cell_type": "code",
      "execution_count": null,
      "metadata": {
        "colab": {
          "base_uri": "https://localhost:8080/"
        },
        "id": "H1jF-8Bq2fLZ",
        "outputId": "90e2d015-7cd8-4016-e66e-13b69eabec86"
      },
      "outputs": [
        {
          "output_type": "execute_result",
          "data": {
            "text/plain": [
              "No     4175\n",
              "Yes     478\n",
              "Name: EverBenched, dtype: int64"
            ]
          },
          "metadata": {},
          "execution_count": 16
        }
      ],
      "source": [
        "data_frame['EverBenched'].value_counts()"
      ]
    },
    {
      "cell_type": "code",
      "execution_count": null,
      "metadata": {
        "colab": {
          "base_uri": "https://localhost:8080/",
          "height": 279
        },
        "id": "GD8_woi92jwz",
        "outputId": "f820e545-88ba-4227-f837-1519789c082f"
      },
      "outputs": [
        {
          "output_type": "display_data",
          "data": {
            "image/png": "[encoded data removed]",
            "text/plain": [
              "<Figure size 432x288 with 1 Axes>"
            ]
          },
          "metadata": {
            "needs_background": "light"
          }
        }
      ],
      "source": [
        "sns.countplot(x = 'EverBenched',data = data_frame)\n",
        "plt.show()"
      ]
    },
    {
      "cell_type": "markdown",
      "metadata": {
        "id": "lRTzjyIJ2m9h"
      },
      "source": [
        "Most of the Employees are not benched."
      ]
    },
    {
      "cell_type": "code",
      "execution_count": null,
      "metadata": {
        "colab": {
          "base_uri": "https://localhost:8080/"
        },
        "id": "J2X81xDy3A-b",
        "outputId": "89beea62-9945-4978-c108-c22c3d930d3f"
      },
      "outputs": [
        {
          "output_type": "execute_result",
          "data": {
            "text/plain": [
              "2    1087\n",
              "4     931\n",
              "5     919\n",
              "3     786\n",
              "1     558\n",
              "0     355\n",
              "7       9\n",
              "6       8\n",
              "Name: ExperienceInCurrentDomain, dtype: int64"
            ]
          },
          "metadata": {},
          "execution_count": 18
        }
      ],
      "source": [
        "data_frame['ExperienceInCurrentDomain'].value_counts()"
      ]
    },
    {
      "cell_type": "code",
      "execution_count": null,
      "metadata": {
        "colab": {
          "base_uri": "https://localhost:8080/",
          "height": 279
        },
        "id": "e2uoKhBX3FMD",
        "outputId": "0e4593db-8e30-40b2-f605-12168181951a"
      },
      "outputs": [
        {
          "output_type": "display_data",
          "data": {
            "image/png": "[encoded data removed]",
            "text/plain": [
              "<Figure size 432x288 with 1 Axes>"
            ]
          },
          "metadata": {
            "needs_background": "light"
          }
        }
      ],
      "source": [
        "sns.countplot(x = 'ExperienceInCurrentDomain',data = data_frame)\n",
        "plt.show()"
      ]
    },
    {
      "cell_type": "markdown",
      "metadata": {
        "id": "y-aEFJBI3KH4"
      },
      "source": [
        "The biggest number of Employees have two years of experience."
      ]
    },
    {
      "cell_type": "code",
      "execution_count": null,
      "metadata": {
        "colab": {
          "base_uri": "https://localhost:8080/"
        },
        "id": "d6LOVGOc3sKD",
        "outputId": "985c2629-176e-4588-a1c2-32fbd4775930"
      },
      "outputs": [
        {
          "output_type": "execute_result",
          "data": {
            "text/plain": [
              "0    3053\n",
              "1    1600\n",
              "Name: LeaveOrNot, dtype: int64"
            ]
          },
          "metadata": {},
          "execution_count": 20
        }
      ],
      "source": [
        "data_frame['LeaveOrNot'].value_counts()"
      ]
    },
    {
      "cell_type": "code",
      "execution_count": null,
      "metadata": {
        "colab": {
          "base_uri": "https://localhost:8080/",
          "height": 279
        },
        "id": "k2UuJI-_32lL",
        "outputId": "2aab7808-9088-4606-9fa4-fb9a74c893f0"
      },
      "outputs": [
        {
          "output_type": "display_data",
          "data": {
            "image/png": "[encoded data removed]",
            "text/plain": [
              "<Figure size 432x288 with 1 Axes>"
            ]
          },
          "metadata": {
            "needs_background": "light"
          }
        }
      ],
      "source": [
        "sns.countplot(x = 'LeaveOrNot',data = data_frame)\n",
        "plt.show()"
      ]
    },
    {
      "cell_type": "markdown",
      "metadata": {
        "id": "IvfzOz3A39UR"
      },
      "source": [
        "Most of the employess are not supposed to leave."
      ]
    },
    {
      "cell_type": "markdown",
      "source": [
        "# **Preprocessing**"
      ],
      "metadata": {
        "id": "pKK0G7SiEEQU"
      }
    },
    {
      "cell_type": "markdown",
      "source": [
        "Because we have duplicate values in our data, we should delete them from data_frame."
      ],
      "metadata": {
        "id": "60pvQS-SrL2H"
      }
    },
    {
      "cell_type": "code",
      "source": [
        "data_frame.drop_duplicates(inplace=True)\n",
        "data_frame.duplicated().sum()"
      ],
      "metadata": {
        "colab": {
          "base_uri": "https://localhost:8080/"
        },
        "id": "JYyx4CruWpuZ",
        "outputId": "e3bbe9a2-66e4-452d-b067-d12bade70222"
      },
      "execution_count": null,
      "outputs": [
        {
          "output_type": "execute_result",
          "data": {
            "text/plain": [
              "0"
            ]
          },
          "metadata": {},
          "execution_count": 22
        }
      ]
    },
    {
      "cell_type": "markdown",
      "source": [
        "## **Encoding**"
      ],
      "metadata": {
        "id": "6gT-SeB2BEAd"
      }
    },
    {
      "cell_type": "markdown",
      "source": [
        "Machine learning algorithms cannot work with categorical data directly. Because we have in our data_frame strings and real values so categorical data must be converted to numbers. We get here a one hot encoding which is a representation of categorical variables as binary vectors."
      ],
      "metadata": {
        "id": "1bK8_J8HBHRv"
      }
    },
    {
      "cell_type": "code",
      "execution_count": null,
      "metadata": {
        "colab": {
          "base_uri": "https://localhost:8080/",
          "height": 480
        },
        "id": "WR-3qO29QUUX",
        "outputId": "2cb65aba-2fa4-453c-8479-97aeb060571e"
      },
      "outputs": [
        {
          "output_type": "execute_result",
          "data": {
            "text/html": [
              "\n",
              "  <div id=\"df-8aba6e1e-ee20-45b6-8155-9def05f99fe4\">\n",
              "    <div class=\"colab-df-container\">\n",
              "      <div>\n",
              "<style scoped>\n",
              "    .dataframe tbody tr th:only-of-type {\n",
              "        vertical-align: middle;\n",
              "    }\n",
              "\n",
              "    .dataframe tbody tr th {\n",
              "        vertical-align: top;\n",
              "    }\n",
              "\n",
              "    .dataframe thead th {\n",
              "        text-align: right;\n",
              "    }\n",
              "</style>\n",
              "<table border=\"1\" class=\"dataframe\">\n",
              "  <thead>\n",
              "    <tr style=\"text-align: right;\">\n",
              "      <th></th>\n",
              "      <th>JoiningYear</th>\n",
              "      <th>PaymentTier</th>\n",
              "      <th>Age</th>\n",
              "      <th>ExperienceInCurrentDomain</th>\n",
              "      <th>LeaveOrNot</th>\n",
              "      <th>Education_Masters</th>\n",
              "      <th>Education_PHD</th>\n",
              "      <th>City_New Delhi</th>\n",
              "      <th>City_Pune</th>\n",
              "      <th>Gender_Male</th>\n",
              "      <th>EverBenched_Yes</th>\n",
              "    </tr>\n",
              "  </thead>\n",
              "  <tbody>\n",
              "    <tr>\n",
              "      <th>0</th>\n",
              "      <td>2017</td>\n",
              "      <td>3</td>\n",
              "      <td>34</td>\n",
              "      <td>0</td>\n",
              "      <td>0</td>\n",
              "      <td>0</td>\n",
              "      <td>0</td>\n",
              "      <td>0</td>\n",
              "      <td>0</td>\n",
              "      <td>1</td>\n",
              "      <td>0</td>\n",
              "    </tr>\n",
              "    <tr>\n",
              "      <th>1</th>\n",
              "      <td>2013</td>\n",
              "      <td>1</td>\n",
              "      <td>28</td>\n",
              "      <td>3</td>\n",
              "      <td>1</td>\n",
              "      <td>0</td>\n",
              "      <td>0</td>\n",
              "      <td>0</td>\n",
              "      <td>1</td>\n",
              "      <td>0</td>\n",
              "      <td>0</td>\n",
              "    </tr>\n",
              "    <tr>\n",
              "      <th>2</th>\n",
              "      <td>2014</td>\n",
              "      <td>3</td>\n",
              "      <td>38</td>\n",
              "      <td>2</td>\n",
              "      <td>0</td>\n",
              "      <td>0</td>\n",
              "      <td>0</td>\n",
              "      <td>1</td>\n",
              "      <td>0</td>\n",
              "      <td>0</td>\n",
              "      <td>0</td>\n",
              "    </tr>\n",
              "    <tr>\n",
              "      <th>3</th>\n",
              "      <td>2016</td>\n",
              "      <td>3</td>\n",
              "      <td>27</td>\n",
              "      <td>5</td>\n",
              "      <td>1</td>\n",
              "      <td>1</td>\n",
              "      <td>0</td>\n",
              "      <td>0</td>\n",
              "      <td>0</td>\n",
              "      <td>1</td>\n",
              "      <td>0</td>\n",
              "    </tr>\n",
              "    <tr>\n",
              "      <th>4</th>\n",
              "      <td>2017</td>\n",
              "      <td>3</td>\n",
              "      <td>24</td>\n",
              "      <td>2</td>\n",
              "      <td>1</td>\n",
              "      <td>1</td>\n",
              "      <td>0</td>\n",
              "      <td>0</td>\n",
              "      <td>1</td>\n",
              "      <td>1</td>\n",
              "      <td>1</td>\n",
              "    </tr>\n",
              "    <tr>\n",
              "      <th>...</th>\n",
              "      <td>...</td>\n",
              "      <td>...</td>\n",
              "      <td>...</td>\n",
              "      <td>...</td>\n",
              "      <td>...</td>\n",
              "      <td>...</td>\n",
              "      <td>...</td>\n",
              "      <td>...</td>\n",
              "      <td>...</td>\n",
              "      <td>...</td>\n",
              "      <td>...</td>\n",
              "    </tr>\n",
              "    <tr>\n",
              "      <th>4645</th>\n",
              "      <td>2017</td>\n",
              "      <td>2</td>\n",
              "      <td>31</td>\n",
              "      <td>2</td>\n",
              "      <td>0</td>\n",
              "      <td>1</td>\n",
              "      <td>0</td>\n",
              "      <td>0</td>\n",
              "      <td>1</td>\n",
              "      <td>0</td>\n",
              "      <td>0</td>\n",
              "    </tr>\n",
              "    <tr>\n",
              "      <th>4647</th>\n",
              "      <td>2016</td>\n",
              "      <td>3</td>\n",
              "      <td>30</td>\n",
              "      <td>2</td>\n",
              "      <td>0</td>\n",
              "      <td>0</td>\n",
              "      <td>0</td>\n",
              "      <td>0</td>\n",
              "      <td>1</td>\n",
              "      <td>1</td>\n",
              "      <td>0</td>\n",
              "    </tr>\n",
              "    <tr>\n",
              "      <th>4649</th>\n",
              "      <td>2013</td>\n",
              "      <td>2</td>\n",
              "      <td>37</td>\n",
              "      <td>2</td>\n",
              "      <td>1</td>\n",
              "      <td>1</td>\n",
              "      <td>0</td>\n",
              "      <td>0</td>\n",
              "      <td>1</td>\n",
              "      <td>1</td>\n",
              "      <td>0</td>\n",
              "    </tr>\n",
              "    <tr>\n",
              "      <th>4650</th>\n",
              "      <td>2018</td>\n",
              "      <td>3</td>\n",
              "      <td>27</td>\n",
              "      <td>5</td>\n",
              "      <td>1</td>\n",
              "      <td>1</td>\n",
              "      <td>0</td>\n",
              "      <td>1</td>\n",
              "      <td>0</td>\n",
              "      <td>1</td>\n",
              "      <td>0</td>\n",
              "    </tr>\n",
              "    <tr>\n",
              "      <th>4651</th>\n",
              "      <td>2012</td>\n",
              "      <td>3</td>\n",
              "      <td>30</td>\n",
              "      <td>2</td>\n",
              "      <td>0</td>\n",
              "      <td>0</td>\n",
              "      <td>0</td>\n",
              "      <td>0</td>\n",
              "      <td>0</td>\n",
              "      <td>1</td>\n",
              "      <td>1</td>\n",
              "    </tr>\n",
              "  </tbody>\n",
              "</table>\n",
              "<p>2764 rows × 11 columns</p>\n",
              "</div>\n",
              "      <button class=\"colab-df-convert\" onclick=\"convertToInteractive('df-8aba6e1e-ee20-45b6-8155-9def05f99fe4')\"\n",
              "              title=\"Convert this dataframe to an interactive table.\"\n",
              "              style=\"display:none;\">\n",
              "        \n",
              "  <svg xmlns=\"http://www.w3.org/2000/svg\" height=\"24px\"viewBox=\"0 0 24 24\"\n",
              "       width=\"24px\">\n",
              "    <path d=\"M0 0h24v24H0V0z\" fill=\"none\"/>\n",
              "    <path d=\"M18.56 5.44l.94 2.06.94-2.06 2.06-.94-2.06-.94-.94-2.06-.94 2.06-2.06.94zm-11 1L8.5 8.5l.94-2.06 2.06-.94-2.06-.94L8.5 2.5l-.94 2.06-2.06.94zm10 10l.94 2.06.94-2.06 2.06-.94-2.06-.94-.94-2.06-.94 2.06-2.06.94z\"/><path d=\"M17.41 7.96l-1.37-1.37c-.4-.4-.92-.59-1.43-.59-.52 0-1.04.2-1.43.59L10.3 9.45l-7.72 7.72c-.78.78-.78 2.05 0 2.83L4 21.41c.39.39.9.59 1.41.59.51 0 1.02-.2 1.41-.59l7.78-7.78 2.81-2.81c.8-.78.8-2.07 0-2.86zM5.41 20L4 18.59l7.72-7.72 1.47 1.35L5.41 20z\"/>\n",
              "  </svg>\n",
              "      </button>\n",
              "      \n",
              "  <style>\n",
              "    .colab-df-container {\n",
              "      display:flex;\n",
              "      flex-wrap:wrap;\n",
              "      gap: 12px;\n",
              "    }\n",
              "\n",
              "    .colab-df-convert {\n",
              "      background-color: #E8F0FE;\n",
              "      border: none;\n",
              "      border-radius: 50%;\n",
              "      cursor: pointer;\n",
              "      display: none;\n",
              "      fill: #1967D2;\n",
              "      height: 32px;\n",
              "      padding: 0 0 0 0;\n",
              "      width: 32px;\n",
              "    }\n",
              "\n",
              "    .colab-df-convert:hover {\n",
              "      background-color: #E2EBFA;\n",
              "      box-shadow: 0px 1px 2px rgba(60, 64, 67, 0.3), 0px 1px 3px 1px rgba(60, 64, 67, 0.15);\n",
              "      fill: #174EA6;\n",
              "    }\n",
              "\n",
              "    [theme=dark] .colab-df-convert {\n",
              "      background-color: #3B4455;\n",
              "      fill: #D2E3FC;\n",
              "    }\n",
              "\n",
              "    [theme=dark] .colab-df-convert:hover {\n",
              "      background-color: #434B5C;\n",
              "      box-shadow: 0px 1px 3px 1px rgba(0, 0, 0, 0.15);\n",
              "      filter: drop-shadow(0px 1px 2px rgba(0, 0, 0, 0.3));\n",
              "      fill: #FFFFFF;\n",
              "    }\n",
              "  </style>\n",
              "\n",
              "      <script>\n",
              "        const buttonEl =\n",
              "          document.querySelector('#df-8aba6e1e-ee20-45b6-8155-9def05f99fe4 button.colab-df-convert');\n",
              "        buttonEl.style.display =\n",
              "          google.colab.kernel.accessAllowed ? 'block' : 'none';\n",
              "\n",
              "        async function convertToInteractive(key) {\n",
              "          const element = document.querySelector('#df-8aba6e1e-ee20-45b6-8155-9def05f99fe4');\n",
              "          const dataTable =\n",
              "            await google.colab.kernel.invokeFunction('convertToInteractive',\n",
              "                                                     [key], {});\n",
              "          if (!dataTable) return;\n",
              "\n",
              "          const docLinkHtml = 'Like what you see? Visit the ' +\n",
              "            '<a target=\"_blank\" href=https://colab.research.google.com/notebooks/data_table.ipynb>data table notebook</a>'\n",
              "            + ' to learn more about interactive tables.';\n",
              "          element.innerHTML = '';\n",
              "          dataTable['output_type'] = 'display_data';\n",
              "          await google.colab.output.renderOutput(dataTable, element);\n",
              "          const docLink = document.createElement('div');\n",
              "          docLink.innerHTML = docLinkHtml;\n",
              "          element.appendChild(docLink);\n",
              "        }\n",
              "      </script>\n",
              "    </div>\n",
              "  </div>\n",
              "  "
            ],
            "text/plain": [
              "      JoiningYear  PaymentTier  Age  ...  City_Pune  Gender_Male  EverBenched_Yes\n",
              "0            2017            3   34  ...          0            1                0\n",
              "1            2013            1   28  ...          1            0                0\n",
              "2            2014            3   38  ...          0            0                0\n",
              "3            2016            3   27  ...          0            1                0\n",
              "4            2017            3   24  ...          1            1                1\n",
              "...           ...          ...  ...  ...        ...          ...              ...\n",
              "4645         2017            2   31  ...          1            0                0\n",
              "4647         2016            3   30  ...          1            1                0\n",
              "4649         2013            2   37  ...          1            1                0\n",
              "4650         2018            3   27  ...          0            1                0\n",
              "4651         2012            3   30  ...          0            1                1\n",
              "\n",
              "[2764 rows x 11 columns]"
            ]
          },
          "metadata": {},
          "execution_count": 23
        }
      ],
      "source": [
        "#Encoding\n",
        "data = pd.get_dummies(data=data_frame, columns=['Education', 'City', 'Gender','EverBenched'],drop_first=True)\n",
        "data"
      ]
    },
    {
      "cell_type": "markdown",
      "source": [
        "## **Split data**"
      ],
      "metadata": {
        "id": "W5Lh7nNgEBRp"
      }
    },
    {
      "cell_type": "markdown",
      "source": [
        "Here we spilt our data into random train and test subsets. As we can see the test data will account for 30% of the total data and the train data 70%. "
      ],
      "metadata": {
        "id": "qT7pX1ixDOdT"
      }
    },
    {
      "cell_type": "code",
      "execution_count": null,
      "metadata": {
        "id": "4tz7Xx6m5Mjo"
      },
      "outputs": [],
      "source": [
        "#split data\n",
        "X = data.drop(columns=['LeaveOrNot'],axis=1)\n",
        "y = data['LeaveOrNot']\n",
        "X_train_1, X_test_1, y_train, y_test = train_test_split(X, y, test_size=0.3, random_state=101)"
      ]
    },
    {
      "cell_type": "markdown",
      "source": [
        "## **Standardize features**"
      ],
      "metadata": {
        "id": "mzjOO9m0FTzS"
      }
    },
    {
      "cell_type": "markdown",
      "source": [
        "Nowe we standardize features by removing the mean and scaling to unit variance. Centering and scaling happen independently on each feature by computing the relevant statistics on the samples in the training set. Mean and standard deviation are then stored to be used on later data using transform. fit_transform first fit to data and then transform it."
      ],
      "metadata": {
        "id": "qYXFMzDQE8jV"
      }
    },
    {
      "cell_type": "code",
      "execution_count": null,
      "metadata": {
        "colab": {
          "base_uri": "https://localhost:8080/",
          "height": 248
        },
        "id": "JTY6WAWT56eq",
        "outputId": "230e3340-5d75-4b01-b45b-a3d46cedaa44"
      },
      "outputs": [
        {
          "output_type": "execute_result",
          "data": {
            "text/html": [
              "\n",
              "  <div id=\"df-10dcb61b-fafa-4e57-aed9-aab3317a990a\">\n",
              "    <div class=\"colab-df-container\">\n",
              "      <div>\n",
              "<style scoped>\n",
              "    .dataframe tbody tr th:only-of-type {\n",
              "        vertical-align: middle;\n",
              "    }\n",
              "\n",
              "    .dataframe tbody tr th {\n",
              "        vertical-align: top;\n",
              "    }\n",
              "\n",
              "    .dataframe thead th {\n",
              "        text-align: right;\n",
              "    }\n",
              "</style>\n",
              "<table border=\"1\" class=\"dataframe\">\n",
              "  <thead>\n",
              "    <tr style=\"text-align: right;\">\n",
              "      <th></th>\n",
              "      <th>JoiningYear</th>\n",
              "      <th>PaymentTier</th>\n",
              "      <th>Age</th>\n",
              "      <th>ExperienceInCurrentDomain</th>\n",
              "      <th>Education_Masters</th>\n",
              "      <th>Education_PHD</th>\n",
              "      <th>City_New_Delhi</th>\n",
              "      <th>City_Pune</th>\n",
              "      <th>Gender_Male</th>\n",
              "      <th>EverBenched_Yes</th>\n",
              "    </tr>\n",
              "  </thead>\n",
              "  <tbody>\n",
              "    <tr>\n",
              "      <th>0</th>\n",
              "      <td>-0.063992</td>\n",
              "      <td>0.584485</td>\n",
              "      <td>-0.600395</td>\n",
              "      <td>-0.398535</td>\n",
              "      <td>-0.554653</td>\n",
              "      <td>-0.244389</td>\n",
              "      <td>-0.627994</td>\n",
              "      <td>-0.635203</td>\n",
              "      <td>-1.102429</td>\n",
              "      <td>-0.389713</td>\n",
              "    </tr>\n",
              "    <tr>\n",
              "      <th>1</th>\n",
              "      <td>-1.130898</td>\n",
              "      <td>-1.014375</td>\n",
              "      <td>-0.212241</td>\n",
              "      <td>-1.024158</td>\n",
              "      <td>-0.554653</td>\n",
              "      <td>-0.244389</td>\n",
              "      <td>-0.627994</td>\n",
              "      <td>1.574299</td>\n",
              "      <td>0.907088</td>\n",
              "      <td>-0.389713</td>\n",
              "    </tr>\n",
              "    <tr>\n",
              "      <th>2</th>\n",
              "      <td>-1.130898</td>\n",
              "      <td>0.584485</td>\n",
              "      <td>-0.406318</td>\n",
              "      <td>0.852710</td>\n",
              "      <td>-0.554653</td>\n",
              "      <td>-0.244389</td>\n",
              "      <td>-0.627994</td>\n",
              "      <td>-0.635203</td>\n",
              "      <td>0.907088</td>\n",
              "      <td>2.565992</td>\n",
              "    </tr>\n",
              "    <tr>\n",
              "      <th>3</th>\n",
              "      <td>1.002914</td>\n",
              "      <td>0.584485</td>\n",
              "      <td>-0.018163</td>\n",
              "      <td>-1.024158</td>\n",
              "      <td>-0.554653</td>\n",
              "      <td>-0.244389</td>\n",
              "      <td>-0.627994</td>\n",
              "      <td>1.574299</td>\n",
              "      <td>0.907088</td>\n",
              "      <td>-0.389713</td>\n",
              "    </tr>\n",
              "    <tr>\n",
              "      <th>4</th>\n",
              "      <td>-0.063992</td>\n",
              "      <td>-1.014375</td>\n",
              "      <td>-0.212241</td>\n",
              "      <td>-0.398535</td>\n",
              "      <td>-0.554653</td>\n",
              "      <td>-0.244389</td>\n",
              "      <td>-0.627994</td>\n",
              "      <td>1.574299</td>\n",
              "      <td>-1.102429</td>\n",
              "      <td>-0.389713</td>\n",
              "    </tr>\n",
              "  </tbody>\n",
              "</table>\n",
              "</div>\n",
              "      <button class=\"colab-df-convert\" onclick=\"convertToInteractive('df-10dcb61b-fafa-4e57-aed9-aab3317a990a')\"\n",
              "              title=\"Convert this dataframe to an interactive table.\"\n",
              "              style=\"display:none;\">\n",
              "        \n",
              "  <svg xmlns=\"http://www.w3.org/2000/svg\" height=\"24px\"viewBox=\"0 0 24 24\"\n",
              "       width=\"24px\">\n",
              "    <path d=\"M0 0h24v24H0V0z\" fill=\"none\"/>\n",
              "    <path d=\"M18.56 5.44l.94 2.06.94-2.06 2.06-.94-2.06-.94-.94-2.06-.94 2.06-2.06.94zm-11 1L8.5 8.5l.94-2.06 2.06-.94-2.06-.94L8.5 2.5l-.94 2.06-2.06.94zm10 10l.94 2.06.94-2.06 2.06-.94-2.06-.94-.94-2.06-.94 2.06-2.06.94z\"/><path d=\"M17.41 7.96l-1.37-1.37c-.4-.4-.92-.59-1.43-.59-.52 0-1.04.2-1.43.59L10.3 9.45l-7.72 7.72c-.78.78-.78 2.05 0 2.83L4 21.41c.39.39.9.59 1.41.59.51 0 1.02-.2 1.41-.59l7.78-7.78 2.81-2.81c.8-.78.8-2.07 0-2.86zM5.41 20L4 18.59l7.72-7.72 1.47 1.35L5.41 20z\"/>\n",
              "  </svg>\n",
              "      </button>\n",
              "      \n",
              "  <style>\n",
              "    .colab-df-container {\n",
              "      display:flex;\n",
              "      flex-wrap:wrap;\n",
              "      gap: 12px;\n",
              "    }\n",
              "\n",
              "    .colab-df-convert {\n",
              "      background-color: #E8F0FE;\n",
              "      border: none;\n",
              "      border-radius: 50%;\n",
              "      cursor: pointer;\n",
              "      display: none;\n",
              "      fill: #1967D2;\n",
              "      height: 32px;\n",
              "      padding: 0 0 0 0;\n",
              "      width: 32px;\n",
              "    }\n",
              "\n",
              "    .colab-df-convert:hover {\n",
              "      background-color: #E2EBFA;\n",
              "      box-shadow: 0px 1px 2px rgba(60, 64, 67, 0.3), 0px 1px 3px 1px rgba(60, 64, 67, 0.15);\n",
              "      fill: #174EA6;\n",
              "    }\n",
              "\n",
              "    [theme=dark] .colab-df-convert {\n",
              "      background-color: #3B4455;\n",
              "      fill: #D2E3FC;\n",
              "    }\n",
              "\n",
              "    [theme=dark] .colab-df-convert:hover {\n",
              "      background-color: #434B5C;\n",
              "      box-shadow: 0px 1px 3px 1px rgba(0, 0, 0, 0.15);\n",
              "      filter: drop-shadow(0px 1px 2px rgba(0, 0, 0, 0.3));\n",
              "      fill: #FFFFFF;\n",
              "    }\n",
              "  </style>\n",
              "\n",
              "      <script>\n",
              "        const buttonEl =\n",
              "          document.querySelector('#df-10dcb61b-fafa-4e57-aed9-aab3317a990a button.colab-df-convert');\n",
              "        buttonEl.style.display =\n",
              "          google.colab.kernel.accessAllowed ? 'block' : 'none';\n",
              "\n",
              "        async function convertToInteractive(key) {\n",
              "          const element = document.querySelector('#df-10dcb61b-fafa-4e57-aed9-aab3317a990a');\n",
              "          const dataTable =\n",
              "            await google.colab.kernel.invokeFunction('convertToInteractive',\n",
              "                                                     [key], {});\n",
              "          if (!dataTable) return;\n",
              "\n",
              "          const docLinkHtml = 'Like what you see? Visit the ' +\n",
              "            '<a target=\"_blank\" href=https://colab.research.google.com/notebooks/data_table.ipynb>data table notebook</a>'\n",
              "            + ' to learn more about interactive tables.';\n",
              "          element.innerHTML = '';\n",
              "          dataTable['output_type'] = 'display_data';\n",
              "          await google.colab.output.renderOutput(dataTable, element);\n",
              "          const docLink = document.createElement('div');\n",
              "          docLink.innerHTML = docLinkHtml;\n",
              "          element.appendChild(docLink);\n",
              "        }\n",
              "      </script>\n",
              "    </div>\n",
              "  </div>\n",
              "  "
            ],
            "text/plain": [
              "   JoiningYear  PaymentTier       Age  ...  City_Pune  Gender_Male  EverBenched_Yes\n",
              "0    -0.063992     0.584485 -0.600395  ...  -0.635203    -1.102429        -0.389713\n",
              "1    -1.130898    -1.014375 -0.212241  ...   1.574299     0.907088        -0.389713\n",
              "2    -1.130898     0.584485 -0.406318  ...  -0.635203     0.907088         2.565992\n",
              "3     1.002914     0.584485 -0.018163  ...   1.574299     0.907088        -0.389713\n",
              "4    -0.063992    -1.014375 -0.212241  ...   1.574299    -1.102429        -0.389713\n",
              "\n",
              "[5 rows x 10 columns]"
            ]
          },
          "metadata": {},
          "execution_count": 25
        }
      ],
      "source": [
        "scaler = StandardScaler()\n",
        "X_train = scaler.fit_transform(X_train_1)\n",
        "X_test = scaler.transform(X_test_1)\n",
        "data_frame = pd.DataFrame(X_train, columns = \n",
        "                          ['JoiningYear', 'PaymentTier','Age', 'ExperienceInCurrentDomain',\n",
        "                          'Education_Masters', 'Education_PHD', 'City_New_Delhi','City_Pune','Gender_Male','EverBenched_Yes'])\n",
        "data_frame.head()\n"
      ]
    },
    {
      "cell_type": "markdown",
      "source": [
        "# **Algorithms**"
      ],
      "metadata": {
        "id": "nNgituksEejT"
      }
    },
    {
      "cell_type": "markdown",
      "metadata": {
        "id": "VUpOZ5CAIond"
      },
      "source": [
        "## **KNN**\n"
      ]
    },
    {
      "cell_type": "markdown",
      "source": [
        "First of all we compute the error rate. After that we look at the graph and choose (or compute if necessary) the argument with the minimum value. At the end we use that argument as parameter in KNNClassifier."
      ],
      "metadata": {
        "id": "nGjBeRJQEuSo"
      }
    },
    {
      "cell_type": "code",
      "execution_count": null,
      "metadata": {
        "id": "EowoZYrTE2yi"
      },
      "outputs": [],
      "source": [
        "#compute error_rate\n",
        "error_rate = []\n",
        "for i in range(1,50):\n",
        "  knn = KNeighborsClassifier(n_neighbors = i)\n",
        "  knn.fit(X_train, y_train)\n",
        "  pred_i = knn.predict(X_test)\n",
        "  error_rate.append(np.mean(pred_i != y_test))"
      ]
    },
    {
      "cell_type": "code",
      "execution_count": null,
      "metadata": {
        "colab": {
          "base_uri": "https://localhost:8080/",
          "height": 609
        },
        "id": "_DqmIRp8VLb0",
        "outputId": "03c9b42d-d04f-4600-e77a-4d2ceeedbad1"
      },
      "outputs": [
        {
          "output_type": "execute_result",
          "data": {
            "text/plain": [
              "[<matplotlib.lines.Line2D at 0x7f5a85b21390>]"
            ]
          },
          "metadata": {},
          "execution_count": 27
        },
        {
          "output_type": "display_data",
          "data": {
            "image/png": "[encoded data removed]",
            "text/plain": [
              "<Figure size 1440x720 with 1 Axes>"
            ]
          },
          "metadata": {
            "needs_background": "light"
          }
        }
      ],
      "source": [
        "plt.figure(figsize=(20,10))\n",
        "plt.plot(range(1,50), error_rate, color='blue', linestyle='-', marker='o', markerfacecolor='red', markersize= 8)"
      ]
    },
    {
      "cell_type": "code",
      "execution_count": null,
      "metadata": {
        "colab": {
          "base_uri": "https://localhost:8080/"
        },
        "id": "WiRca022WxQZ",
        "outputId": "dda22972-61ce-4dd2-e2fc-368c28381715"
      },
      "outputs": [
        {
          "output_type": "stream",
          "name": "stdout",
          "text": [
            "Lowest error rate: 0.23132530120481928, for n_negihbors = 13\n"
          ]
        }
      ],
      "source": [
        "#find minimum of error_rate\n",
        "print(f'Lowest error rate: {min(error_rate)}, for n_negihbors = {error_rate.index(min(error_rate))+1}')"
      ]
    },
    {
      "cell_type": "code",
      "execution_count": null,
      "metadata": {
        "colab": {
          "base_uri": "https://localhost:8080/"
        },
        "id": "bZsZUw-RETr5",
        "outputId": "639fcce5-1972-4a18-cded-ca9a36124b2a"
      },
      "outputs": [
        {
          "output_type": "execute_result",
          "data": {
            "text/plain": [
              "KNeighborsClassifier(n_neighbors=13)"
            ]
          },
          "metadata": {},
          "execution_count": 29
        }
      ],
      "source": [
        "#KNN\n",
        "knn = KNeighborsClassifier(n_neighbors= 13)\n",
        "knn.fit(X_train, y_train)"
      ]
    },
    {
      "cell_type": "code",
      "execution_count": null,
      "metadata": {
        "colab": {
          "base_uri": "https://localhost:8080/"
        },
        "id": "r8Obh3cYZCF9",
        "outputId": "149d09bf-ed46-4c24-cef8-90a8cd8a3fd7"
      },
      "outputs": [
        {
          "output_type": "stream",
          "name": "stdout",
          "text": [
            "[[472  43]\n",
            " [149 166]]\n"
          ]
        }
      ],
      "source": [
        "#confusion matrix: \n",
        "#true positive, false positive\n",
        "#false negative, true negative\n",
        "prediction_knn = knn.predict(X_test)\n",
        "print(confusion_matrix(y_test, prediction_knn))"
      ]
    },
    {
      "cell_type": "code",
      "execution_count": null,
      "metadata": {
        "colab": {
          "base_uri": "https://localhost:8080/",
          "height": 390
        },
        "id": "NBQ3gLis-BWI",
        "outputId": "b754620e-bc43-4d79-8f38-0af0f21b6c8e"
      },
      "outputs": [
        {
          "output_type": "display_data",
          "data": {
            "image/png": "[encoded data removed]",
            "text/plain": [
              "<Figure size 720x432 with 2 Axes>"
            ]
          },
          "metadata": {
            "needs_background": "light"
          }
        }
      ],
      "source": [
        "plt.figure(figsize = (10,6))\n",
        "sns.heatmap(confusion_matrix(y_test, prediction_knn), annot = True, fmt = \".0f\", cmap = 'Blues')\n",
        "plt.title(\"Prediction\")\n",
        "plt.show()"
      ]
    },
    {
      "cell_type": "code",
      "execution_count": null,
      "metadata": {
        "colab": {
          "base_uri": "https://localhost:8080/"
        },
        "id": "x_6X0CE3d3vL",
        "outputId": "79a9b91a-5bb0-488b-8173-f0ad69216ca9"
      },
      "outputs": [
        {
          "output_type": "stream",
          "name": "stdout",
          "text": [
            "KNN accuracy: 76.86746987951807\n"
          ]
        }
      ],
      "source": [
        "KNN_accuracy = metrics.accuracy_score(y_test, prediction_knn)*100\n",
        "print(f'KNN accuracy: {KNN_accuracy}')"
      ]
    },
    {
      "cell_type": "markdown",
      "metadata": {
        "id": "fLgsniTC9fl2"
      },
      "source": [
        "## **Logistic Regression**"
      ]
    },
    {
      "cell_type": "markdown",
      "metadata": {
        "id": "7HC6KcCV1odL"
      },
      "source": [
        "Before building a model, we will use the GridSearchCV function to choose the best parameters to perform Logistic Regression Classifier better."
      ]
    },
    {
      "cell_type": "code",
      "execution_count": null,
      "metadata": {
        "colab": {
          "base_uri": "https://localhost:8080/"
        },
        "id": "JiecAjVsVSSx",
        "outputId": "3ada8889-808f-457e-c174-1ae7f6850d81"
      },
      "outputs": [
        {
          "output_type": "stream",
          "name": "stdout",
          "text": [
            "{'C': 0.01}\n"
          ]
        }
      ],
      "source": [
        "logistic_model = LogisticRegression()\n",
        "grid_parameters = {'C': [0.01, 0.1, 1, 2, 10, 100] } \n",
        "\n",
        "grid_search_lg = GridSearchCV(logistic_model, grid_parameters, cv=5).fit(X_train, y_train)\n",
        "\n",
        "print(grid_search_lg.best_params_)"
      ]
    },
    {
      "cell_type": "code",
      "execution_count": null,
      "metadata": {
        "colab": {
          "base_uri": "https://localhost:8080/"
        },
        "id": "S2TkRySsfFJT",
        "outputId": "933e6f25-aa5a-4b53-e5ed-b6e584ecc8d9"
      },
      "outputs": [
        {
          "output_type": "execute_result",
          "data": {
            "text/plain": [
              "LogisticRegression(C=0.01)"
            ]
          },
          "metadata": {},
          "execution_count": 34
        }
      ],
      "source": [
        "#Logistic regression\n",
        "logistic_regression = LogisticRegression(C=0.01) \n",
        "logistic_regression.fit(X_train, y_train)"
      ]
    },
    {
      "cell_type": "code",
      "execution_count": null,
      "metadata": {
        "colab": {
          "base_uri": "https://localhost:8080/"
        },
        "id": "CYq5aN9mgCNf",
        "outputId": "22b45c04-409f-4214-dba3-2f6f27b43422"
      },
      "outputs": [
        {
          "output_type": "stream",
          "name": "stdout",
          "text": [
            "[[452  63]\n",
            " [194 121]]\n"
          ]
        }
      ],
      "source": [
        "prediction_lr = logistic_regression.predict(X_test)\n",
        "print(confusion_matrix(y_test, prediction_lr))"
      ]
    },
    {
      "cell_type": "code",
      "execution_count": null,
      "metadata": {
        "colab": {
          "base_uri": "https://localhost:8080/",
          "height": 390
        },
        "id": "TZtKJ2ucAJUj",
        "outputId": "722fccb8-f942-427c-fd81-554c3c79e060"
      },
      "outputs": [
        {
          "output_type": "display_data",
          "data": {
            "image/png": "[encoded data removed]",
            "text/plain": [
              "<Figure size 720x432 with 2 Axes>"
            ]
          },
          "metadata": {
            "needs_background": "light"
          }
        }
      ],
      "source": [
        "plt.figure(figsize = (10,6))\n",
        "sns.heatmap(confusion_matrix(y_test, prediction_lr), annot = True, fmt = \".0f\", cmap = 'Blues')\n",
        "plt.title(\"Prediction\")\n",
        "plt.show()"
      ]
    },
    {
      "cell_type": "code",
      "execution_count": null,
      "metadata": {
        "colab": {
          "base_uri": "https://localhost:8080/"
        },
        "id": "5JtLlM8ighfB",
        "outputId": "569de65f-9438-437b-d350-ca2be7859e24"
      },
      "outputs": [
        {
          "output_type": "stream",
          "name": "stdout",
          "text": [
            " Logistic Regression accuracy: 69.03614457831326\n"
          ]
        }
      ],
      "source": [
        "logistic_regression_accuracy = metrics.accuracy_score(y_test, prediction_lr)*100\n",
        "print(f' Logistic Regression accuracy: {logistic_regression_accuracy}')"
      ]
    },
    {
      "cell_type": "markdown",
      "metadata": {
        "id": "FWbWyL4gL1Jc"
      },
      "source": [
        "## **Random Forest**"
      ]
    },
    {
      "cell_type": "markdown",
      "source": [
        "First of all we use the RandomizedSearchCV to choose the best parameters which we use then to the RandomForestClassifier and get the result."
      ],
      "metadata": {
        "id": "DDttkjn4qZpN"
      }
    },
    {
      "cell_type": "code",
      "execution_count": null,
      "metadata": {
        "colab": {
          "base_uri": "https://localhost:8080/"
        },
        "id": "3KimjGbnCBNL",
        "outputId": "d610cb8e-f8ea-4ac3-a7b0-3fd99e75736f"
      },
      "outputs": [
        {
          "output_type": "stream",
          "name": "stdout",
          "text": [
            "Fitting 3 folds for each of 100 candidates, totalling 300 fits\n",
            "{'n_estimators': 1000, 'min_samples_split': 10, 'max_features': 4, 'max_depth': 10, 'bootstrap': True}\n"
          ]
        }
      ],
      "source": [
        "Randomforest_model= RandomForestClassifier()\n",
        "max_depth=[10, 20, 30, 40, 50, 60, 70, 80, 90, 100, None]\n",
        "n_estimators=[100, 500, 1000]\n",
        "max_features=[2, 3, 4, 5]\n",
        "bootstrap=[True, False]\n",
        "min_samples_split=[2, 5, 10]\n",
        "\n",
        "grid_parameters= {'n_estimators':n_estimators,\n",
        "            'max_features':max_features,\n",
        "            'bootstrap':bootstrap, \n",
        "            'max_depth':max_depth, \n",
        "            'min_samples_split':min_samples_split}\n",
        "\n",
        "\n",
        "grid_search = RandomizedSearchCV(estimator=Randomforest_model, param_distributions=grid_parameters, n_iter=100, cv=3, verbose=2, n_jobs=-1).fit(X_train, y_train)\n",
        "print(grid_search.best_params_)"
      ]
    },
    {
      "cell_type": "code",
      "execution_count": null,
      "metadata": {
        "id": "dQC-mkh-g3Vq",
        "colab": {
          "base_uri": "https://localhost:8080/"
        },
        "outputId": "d6c722c4-359b-4692-e7fd-32449d053030"
      },
      "outputs": [
        {
          "output_type": "execute_result",
          "data": {
            "text/plain": [
              "RandomForestClassifier(max_depth=10, max_features=4, min_samples_split=10,\n",
              "                       n_estimators=1000)"
            ]
          },
          "metadata": {},
          "execution_count": 69
        }
      ],
      "source": [
        "#Random forest\n",
        "forest = RandomForestClassifier(n_estimators=1000, max_features=4, bootstrap=True, max_depth=10, min_samples_split=10)\n",
        "forest.fit(X_train, y_train)"
      ]
    },
    {
      "cell_type": "code",
      "execution_count": null,
      "metadata": {
        "id": "sLfipUZkIDW8",
        "colab": {
          "base_uri": "https://localhost:8080/"
        },
        "outputId": "2af975af-8ea2-4058-e566-33021ffea8c1"
      },
      "outputs": [
        {
          "output_type": "stream",
          "name": "stdout",
          "text": [
            "[[468  47]\n",
            " [118 197]]\n"
          ]
        }
      ],
      "source": [
        "prediction_forest = forest.predict(X_test)\n",
        "print(confusion_matrix(y_test, prediction_forest))"
      ]
    },
    {
      "cell_type": "code",
      "execution_count": null,
      "metadata": {
        "id": "NUZJ3WCfIM6p",
        "colab": {
          "base_uri": "https://localhost:8080/",
          "height": 390
        },
        "outputId": "00a0b9a8-f56f-49a3-ffda-82a60de61ba4"
      },
      "outputs": [
        {
          "output_type": "display_data",
          "data": {
            "image/png": "[encoded data removed]",
            "text/plain": [
              "<Figure size 720x432 with 2 Axes>"
            ]
          },
          "metadata": {
            "needs_background": "light"
          }
        }
      ],
      "source": [
        "plt.figure(figsize = (10,6))\n",
        "sns.heatmap(confusion_matrix(y_test, prediction_forest), annot = True, fmt = \".0f\", cmap = 'Blues')\n",
        "plt.title(\"Prediction\")\n",
        "plt.show()"
      ]
    },
    {
      "cell_type": "code",
      "execution_count": null,
      "metadata": {
        "id": "n4KOxI90IRXk",
        "colab": {
          "base_uri": "https://localhost:8080/"
        },
        "outputId": "0b744be8-0fc8-4509-d1f1-ac66bdb63c70"
      },
      "outputs": [
        {
          "output_type": "stream",
          "name": "stdout",
          "text": [
            " Random Forest accuracy: 80.12048192771084\n"
          ]
        }
      ],
      "source": [
        "random_forest_accuracy = metrics.accuracy_score(y_test, prediction_forest)*100\n",
        "print(f' Random Forest accuracy: {random_forest_accuracy}')"
      ]
    },
    {
      "cell_type": "markdown",
      "metadata": {
        "id": "yhZU2XvlEweZ"
      },
      "source": [
        "## **XGBoost** \n",
        "First of all we use the GridSearchCV to choose the best parameters which we use then to the XGBClassifier and get the result.\n"
      ]
    },
    {
      "cell_type": "code",
      "execution_count": null,
      "metadata": {
        "id": "DjdD0AarBhq9",
        "colab": {
          "base_uri": "https://localhost:8080/"
        },
        "outputId": "ad665ffc-29cd-4e88-8644-02b1dd014f3e"
      },
      "outputs": [
        {
          "output_type": "stream",
          "name": "stdout",
          "text": [
            "Fitting 10 folds for each of 24 candidates, totalling 240 fits\n",
            "{'learning_rate': 0.1, 'max_depth': 6, 'n_estimators': 50}\n"
          ]
        }
      ],
      "source": [
        "XGB = XGBClassifier(n_jobs=-1, random_state=1000, eval_metric='logloss')\n",
        "parameters = {\n",
        "    'n_estimators':[ 50,100,200],\n",
        "    'max_depth':[5,6,7,8],\n",
        "    'learning_rate':[0.1,0.01]}\n",
        "model_grid_XGB = GridSearchCV(XGB, parameters, cv=10, verbose=1).fit(X_train, y_train)\n",
        "print(model_grid_XGB.best_params_)"
      ]
    },
    {
      "cell_type": "code",
      "execution_count": null,
      "metadata": {
        "id": "-BZVWFu2CfKu",
        "colab": {
          "base_uri": "https://localhost:8080/"
        },
        "outputId": "98588921-5fe9-4aeb-c0a8-26b0ebc25fbe"
      },
      "outputs": [
        {
          "output_type": "execute_result",
          "data": {
            "text/plain": [
              "XGBClassifier(eval_metric='logloss', max_depth=6, n_estimators=50, n_jobs=-1,\n",
              "              random_state=1000)"
            ]
          },
          "metadata": {},
          "execution_count": 44
        }
      ],
      "source": [
        "#XGBoost\n",
        "XGB = XGBClassifier(n_jobs=-1, random_state=1000, n_estimators=50, max_depth=6,\n",
        "                    learning_rate=0.1, eval_metric='logloss')\n",
        "XGB.fit(X_train,y_train)"
      ]
    },
    {
      "cell_type": "code",
      "execution_count": null,
      "metadata": {
        "id": "Wfz9i1WkFU2p",
        "colab": {
          "base_uri": "https://localhost:8080/"
        },
        "outputId": "520396e3-07ee-4dfc-9124-65860ed0fd8a"
      },
      "outputs": [
        {
          "output_type": "stream",
          "name": "stdout",
          "text": [
            "[[468  47]\n",
            " [118 197]]\n"
          ]
        }
      ],
      "source": [
        "prediction_XGB = XGB.predict(X_test)\n",
        "print(confusion_matrix(y_test, prediction_XGB))"
      ]
    },
    {
      "cell_type": "code",
      "execution_count": null,
      "metadata": {
        "id": "htKok5U7HHxi",
        "colab": {
          "base_uri": "https://localhost:8080/",
          "height": 390
        },
        "outputId": "25e870f9-c610-4310-ab7a-c4f660369079"
      },
      "outputs": [
        {
          "output_type": "display_data",
          "data": {
            "image/png": "[encoded data removed]",
            "text/plain": [
              "<Figure size 720x432 with 2 Axes>"
            ]
          },
          "metadata": {
            "needs_background": "light"
          }
        }
      ],
      "source": [
        "plt.figure(figsize = (10,6))\n",
        "sns.heatmap(confusion_matrix(y_test, prediction_XGB), annot = True, fmt = \".0f\", cmap = 'Blues')\n",
        "plt.title(\"Prediction\")\n",
        "plt.show()"
      ]
    },
    {
      "cell_type": "code",
      "execution_count": null,
      "metadata": {
        "id": "bciBSe3NGgBb",
        "colab": {
          "base_uri": "https://localhost:8080/"
        },
        "outputId": "03f0bcae-a266-4093-d96d-4b2ffa78b933"
      },
      "outputs": [
        {
          "output_type": "stream",
          "name": "stdout",
          "text": [
            "XGBoost accuracy: 80.12048192771084\n"
          ]
        }
      ],
      "source": [
        "xgboost_accuracy = metrics.accuracy_score(y_test, prediction_XGB)*100\n",
        "print(f'XGBoost accuracy: {xgboost_accuracy}')"
      ]
    },
    {
      "cell_type": "markdown",
      "metadata": {
        "id": "qQpySkO293up"
      },
      "source": [
        "## **Neural Network**"
      ]
    },
    {
      "cell_type": "markdown",
      "metadata": {
        "id": "9-8Ae1Nb3VFx"
      },
      "source": [
        "As before, we use the GridSearchCV to choose the best parameters for our Neural Network model."
      ]
    },
    {
      "cell_type": "code",
      "execution_count": null,
      "metadata": {
        "id": "994oeH7NAXrX",
        "colab": {
          "base_uri": "https://localhost:8080/"
        },
        "outputId": "26ed42ff-ae14-47d6-fbfb-76ac5b650751"
      },
      "outputs": [
        {
          "output_type": "stream",
          "name": "stdout",
          "text": [
            "best parameters: {'activation': 'tanh', 'alpha': 0.05, 'hidden_layer_sizes': (10, 30, 10), 'learning_rate': 'adaptive', 'solver': 'adam'}\n"
          ]
        },
        {
          "output_type": "stream",
          "name": "stderr",
          "text": [
            "/usr/local/lib/python3.7/dist-packages/sklearn/neural_network/_multilayer_perceptron.py:696: ConvergenceWarning: Stochastic Optimizer: Maximum iterations (100) reached and the optimization hasn't converged yet.\n",
            "  ConvergenceWarning,\n"
          ]
        }
      ],
      "source": [
        "Neural_network_model = MLPClassifier(max_iter=100)\n",
        "grid_parameters_nw = { \n",
        "              'hidden_layer_sizes':[(10,30,10),(20,)],\n",
        "              'activation':['tanh','relu'],\n",
        "              'solver':['sgd','adam'],\n",
        "              'alpha':[0.0001,0.05],\n",
        "              'learning_rate':['constant','adaptive']}\n",
        "grid_search_nw = GridSearchCV(Neural_network_model, grid_parameters_nw, n_jobs=-1, cv=5).fit(X_train, y_train)\n",
        "print(\"best parameters:\", grid_search_nw.best_params_)"
      ]
    },
    {
      "cell_type": "code",
      "execution_count": null,
      "metadata": {
        "id": "vONsKVTl96cV",
        "colab": {
          "base_uri": "https://localhost:8080/"
        },
        "outputId": "1419b078-eec7-4796-d232-7e0fd4227d48"
      },
      "outputs": [
        {
          "output_type": "stream",
          "name": "stderr",
          "text": [
            "/usr/local/lib/python3.7/dist-packages/sklearn/neural_network/_multilayer_perceptron.py:696: ConvergenceWarning: Stochastic Optimizer: Maximum iterations (200) reached and the optimization hasn't converged yet.\n",
            "  ConvergenceWarning,\n"
          ]
        },
        {
          "output_type": "execute_result",
          "data": {
            "text/plain": [
              "MLPClassifier(activation='tanh', alpha=0.05, hidden_layer_sizes=(10, 30, 10),\n",
              "              learning_rate='adaptive')"
            ]
          },
          "metadata": {},
          "execution_count": 60
        }
      ],
      "source": [
        "NeuralNetwork = MLPClassifier(activation='tanh', alpha=0.05, hidden_layer_sizes=(10,30,10), learning_rate='adaptive', solver='adam')\n",
        "NeuralNetwork.fit(X_train, y_train)"
      ]
    },
    {
      "cell_type": "code",
      "execution_count": null,
      "metadata": {
        "id": "dZt0xeLP_03H",
        "colab": {
          "base_uri": "https://localhost:8080/"
        },
        "outputId": "0d46e0d4-8e51-4029-b30a-05005105be1a"
      },
      "outputs": [
        {
          "output_type": "stream",
          "name": "stdout",
          "text": [
            "[[463  52]\n",
            " [119 196]]\n"
          ]
        }
      ],
      "source": [
        "prediction_neural_network = NeuralNetwork.predict(X_test)\n",
        "print(confusion_matrix(y_test, prediction_neural_network))"
      ]
    },
    {
      "cell_type": "code",
      "execution_count": null,
      "metadata": {
        "id": "MeregG5K_-Bq",
        "colab": {
          "base_uri": "https://localhost:8080/",
          "height": 390
        },
        "outputId": "d5517598-9c4e-4ecd-8890-4d1a8f1a0689"
      },
      "outputs": [
        {
          "output_type": "display_data",
          "data": {
            "image/png": "[encoded data removed]",
            "text/plain": [
              "<Figure size 720x432 with 2 Axes>"
            ]
          },
          "metadata": {
            "needs_background": "light"
          }
        }
      ],
      "source": [
        "plt.figure(figsize = (10,6))\n",
        "sns.heatmap(confusion_matrix(y_test, prediction_neural_network), annot = True, fmt = \".0f\", cmap = 'Blues')\n",
        "plt.title(\"Prediction\")\n",
        "plt.show()"
      ]
    },
    {
      "cell_type": "code",
      "execution_count": null,
      "metadata": {
        "id": "-r7pCrS7ACbk",
        "colab": {
          "base_uri": "https://localhost:8080/"
        },
        "outputId": "de756b9c-2d4d-4fe1-f672-5d32ade8afec"
      },
      "outputs": [
        {
          "output_type": "stream",
          "name": "stdout",
          "text": [
            "Neural Network accuracy: 79.39759036144578\n"
          ]
        }
      ],
      "source": [
        "neural_network_accuracy = metrics.accuracy_score(y_test, prediction_neural_network)*100\n",
        "print(f'Neural Network accuracy: {neural_network_accuracy}')"
      ]
    },
    {
      "cell_type": "markdown",
      "metadata": {
        "id": "6EtbdPChwgJd"
      },
      "source": [
        "# **Comparison of algorithms**"
      ]
    },
    {
      "cell_type": "code",
      "execution_count": null,
      "metadata": {
        "id": "_qEgVS2xB2bL",
        "colab": {
          "base_uri": "https://localhost:8080/",
          "height": 204
        },
        "outputId": "b76f63fc-c356-4d10-ce49-f6181846c489"
      },
      "outputs": [
        {
          "output_type": "execute_result",
          "data": {
            "text/html": [
              "\n",
              "  <div id=\"df-c42ceed0-ad37-4445-933d-4ff52486bfa2\">\n",
              "    <div class=\"colab-df-container\">\n",
              "      <div>\n",
              "<style scoped>\n",
              "    .dataframe tbody tr th:only-of-type {\n",
              "        vertical-align: middle;\n",
              "    }\n",
              "\n",
              "    .dataframe tbody tr th {\n",
              "        vertical-align: top;\n",
              "    }\n",
              "\n",
              "    .dataframe thead th {\n",
              "        text-align: right;\n",
              "    }\n",
              "</style>\n",
              "<table border=\"1\" class=\"dataframe\">\n",
              "  <thead>\n",
              "    <tr style=\"text-align: right;\">\n",
              "      <th></th>\n",
              "      <th>Model</th>\n",
              "      <th>Score</th>\n",
              "    </tr>\n",
              "  </thead>\n",
              "  <tbody>\n",
              "    <tr>\n",
              "      <th>2</th>\n",
              "      <td>Random Forest</td>\n",
              "      <td>80.120482</td>\n",
              "    </tr>\n",
              "    <tr>\n",
              "      <th>3</th>\n",
              "      <td>XGBoost</td>\n",
              "      <td>80.120482</td>\n",
              "    </tr>\n",
              "    <tr>\n",
              "      <th>4</th>\n",
              "      <td>Neural Network</td>\n",
              "      <td>79.397590</td>\n",
              "    </tr>\n",
              "    <tr>\n",
              "      <th>0</th>\n",
              "      <td>K-Nearest Neighbors</td>\n",
              "      <td>76.867470</td>\n",
              "    </tr>\n",
              "    <tr>\n",
              "      <th>1</th>\n",
              "      <td>Logistic Regression</td>\n",
              "      <td>69.036145</td>\n",
              "    </tr>\n",
              "  </tbody>\n",
              "</table>\n",
              "</div>\n",
              "      <button class=\"colab-df-convert\" onclick=\"convertToInteractive('df-c42ceed0-ad37-4445-933d-4ff52486bfa2')\"\n",
              "              title=\"Convert this dataframe to an interactive table.\"\n",
              "              style=\"display:none;\">\n",
              "        \n",
              "  <svg xmlns=\"http://www.w3.org/2000/svg\" height=\"24px\"viewBox=\"0 0 24 24\"\n",
              "       width=\"24px\">\n",
              "    <path d=\"M0 0h24v24H0V0z\" fill=\"none\"/>\n",
              "    <path d=\"M18.56 5.44l.94 2.06.94-2.06 2.06-.94-2.06-.94-.94-2.06-.94 2.06-2.06.94zm-11 1L8.5 8.5l.94-2.06 2.06-.94-2.06-.94L8.5 2.5l-.94 2.06-2.06.94zm10 10l.94 2.06.94-2.06 2.06-.94-2.06-.94-.94-2.06-.94 2.06-2.06.94z\"/><path d=\"M17.41 7.96l-1.37-1.37c-.4-.4-.92-.59-1.43-.59-.52 0-1.04.2-1.43.59L10.3 9.45l-7.72 7.72c-.78.78-.78 2.05 0 2.83L4 21.41c.39.39.9.59 1.41.59.51 0 1.02-.2 1.41-.59l7.78-7.78 2.81-2.81c.8-.78.8-2.07 0-2.86zM5.41 20L4 18.59l7.72-7.72 1.47 1.35L5.41 20z\"/>\n",
              "  </svg>\n",
              "      </button>\n",
              "      \n",
              "  <style>\n",
              "    .colab-df-container {\n",
              "      display:flex;\n",
              "      flex-wrap:wrap;\n",
              "      gap: 12px;\n",
              "    }\n",
              "\n",
              "    .colab-df-convert {\n",
              "      background-color: #E8F0FE;\n",
              "      border: none;\n",
              "      border-radius: 50%;\n",
              "      cursor: pointer;\n",
              "      display: none;\n",
              "      fill: #1967D2;\n",
              "      height: 32px;\n",
              "      padding: 0 0 0 0;\n",
              "      width: 32px;\n",
              "    }\n",
              "\n",
              "    .colab-df-convert:hover {\n",
              "      background-color: #E2EBFA;\n",
              "      box-shadow: 0px 1px 2px rgba(60, 64, 67, 0.3), 0px 1px 3px 1px rgba(60, 64, 67, 0.15);\n",
              "      fill: #174EA6;\n",
              "    }\n",
              "\n",
              "    [theme=dark] .colab-df-convert {\n",
              "      background-color: #3B4455;\n",
              "      fill: #D2E3FC;\n",
              "    }\n",
              "\n",
              "    [theme=dark] .colab-df-convert:hover {\n",
              "      background-color: #434B5C;\n",
              "      box-shadow: 0px 1px 3px 1px rgba(0, 0, 0, 0.15);\n",
              "      filter: drop-shadow(0px 1px 2px rgba(0, 0, 0, 0.3));\n",
              "      fill: #FFFFFF;\n",
              "    }\n",
              "  </style>\n",
              "\n",
              "      <script>\n",
              "        const buttonEl =\n",
              "          document.querySelector('#df-c42ceed0-ad37-4445-933d-4ff52486bfa2 button.colab-df-convert');\n",
              "        buttonEl.style.display =\n",
              "          google.colab.kernel.accessAllowed ? 'block' : 'none';\n",
              "\n",
              "        async function convertToInteractive(key) {\n",
              "          const element = document.querySelector('#df-c42ceed0-ad37-4445-933d-4ff52486bfa2');\n",
              "          const dataTable =\n",
              "            await google.colab.kernel.invokeFunction('convertToInteractive',\n",
              "                                                     [key], {});\n",
              "          if (!dataTable) return;\n",
              "\n",
              "          const docLinkHtml = 'Like what you see? Visit the ' +\n",
              "            '<a target=\"_blank\" href=https://colab.research.google.com/notebooks/data_table.ipynb>data table notebook</a>'\n",
              "            + ' to learn more about interactive tables.';\n",
              "          element.innerHTML = '';\n",
              "          dataTable['output_type'] = 'display_data';\n",
              "          await google.colab.output.renderOutput(dataTable, element);\n",
              "          const docLink = document.createElement('div');\n",
              "          docLink.innerHTML = docLinkHtml;\n",
              "          element.appendChild(docLink);\n",
              "        }\n",
              "      </script>\n",
              "    </div>\n",
              "  </div>\n",
              "  "
            ],
            "text/plain": [
              "                 Model      Score\n",
              "2        Random Forest  80.120482\n",
              "3              XGBoost  80.120482\n",
              "4       Neural Network  79.397590\n",
              "0  K-Nearest Neighbors  76.867470\n",
              "1  Logistic Regression  69.036145"
            ]
          },
          "metadata": {},
          "execution_count": 73
        }
      ],
      "source": [
        "models = ['K-Nearest Neighbors', 'Logistic Regression','Random Forest', 'XGBoost', 'Neural Network']\n",
        "scores = [KNN_accuracy, logistic_regression_accuracy, random_forest_accuracy, xgboost_accuracy, neural_network_accuracy]\n",
        "\n",
        "models = pd.DataFrame({'Model' : models, 'Score' : scores})\n",
        "\n",
        "\n",
        "models.sort_values(by = 'Score', ascending = False)"
      ]
    },
    {
      "cell_type": "code",
      "execution_count": null,
      "metadata": {
        "id": "rFS2StEjEEIj",
        "colab": {
          "base_uri": "https://localhost:8080/",
          "height": 497
        },
        "outputId": "d079cba3-1289-444c-b731-36e1ab5958cb"
      },
      "outputs": [
        {
          "output_type": "display_data",
          "data": {
            "image/png": "[encoded data removed]",
            "text/plain": [
              "<Figure size 1296x576 with 1 Axes>"
            ]
          },
          "metadata": {
            "needs_background": "light"
          }
        }
      ],
      "source": [
        "plt.figure(figsize = (18, 8))\n",
        "\n",
        "sns.barplot(x = 'Model', y = 'Score', data = models)\n",
        "plt.show()"
      ]
    },
    {
      "cell_type": "markdown",
      "metadata": {
        "id": "ncd2EYbszUod"
      },
      "source": [
        "As a result,we can say that Random Forest Classifier is the best model with 80% of the accuracy."
      ]
    }
  ],
  "metadata": {
    "colab": {
      "name": "boml_project.ipynb",
      "provenance": []
    },
    "kernelspec": {
      "display_name": "Python 3",
      "name": "python3"
    },
    "language_info": {
      "name": "python"
    }
  },
  "nbformat": 4,
  "nbformat_minor": 0
}